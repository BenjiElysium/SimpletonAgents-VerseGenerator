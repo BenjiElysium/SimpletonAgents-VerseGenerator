{
  "nbformat": 4,
  "nbformat_minor": 0,
  "metadata": {
    "colab": {
      "provenance": [],
      "toc_visible": true,
      "authorship_tag": "ABX9TyObr8mXRQrZo+3Bo9A/MMk7",
      "include_colab_link": true
    },
    "kernelspec": {
      "name": "python3",
      "display_name": "Python 3"
    },
    "language_info": {
      "name": "python"
    }
  },
  "cells": [
    {
      "cell_type": "markdown",
      "metadata": {
        "id": "view-in-github",
        "colab_type": "text"
      },
      "source": [
        "<a href=\"https://colab.research.google.com/github/BenjiElysium/SimpletonAgents-VerseGenerator/blob/main/SimpletonAgentsVerseGenerator.ipynb\" target=\"_parent\"><img src=\"https://colab.research.google.com/assets/colab-badge.svg\" alt=\"Open In Colab\"/></a>"
      ]
    },
    {
      "cell_type": "markdown",
      "source": [
        "**Simpleton Agents Verse Generator**\n",
        "\n",
        "---\n",
        "\n"
      ],
      "metadata": {
        "id": "aFeN2o7vxn_J"
      }
    },
    {
      "cell_type": "markdown",
      "source": [
        "This notebook demonstrates how to install the OpenAI library and obtain an API key for authentication. Once openai is installed the **Simpleton Agents Verse Generator** can be launched. \n",
        "\n",
        "\n",
        "---\n",
        "\n",
        "\n",
        "It is recommend to keep the N setting to 1 as this performs the three stage verse generation and refinement process.\n",
        "\n",
        "Created by Philip Benn: philipaldenbenn@gmail.com\n"
      ],
      "metadata": {
        "id": "BMXo5USNz5uw"
      }
    },
    {
      "cell_type": "code",
      "source": [
        "!pip install openai"
      ],
      "metadata": {
        "id": "URR-TxPv1CA8"
      },
      "execution_count": null,
      "outputs": []
    },
    {
      "cell_type": "code",
      "source": [
        "from IPython.display import clear_output\n",
        "import getpass\n",
        "\n",
        "print(\"Enter your OpenAI API key:\")\n",
        "api_key = getpass.getpass()\n",
        "clear_output()\n",
        "print(\"API key received.\")"
      ],
      "metadata": {
        "id": "HaM52Kzo1Ibl"
      },
      "execution_count": null,
      "outputs": []
    },
    {
      "cell_type": "code",
      "source": [
        "import openai\n",
        "from IPython.display import display, HTML\n",
        "import textwrap\n",
        "\n",
        "openai.api_key = api_key\n",
        "\n",
        "def wrapped_print(text, width=80):\n",
        "    wrapped_lines = textwrap.wrap(text, width=width)\n",
        "    wrapped_text = \"<br>\".join(wrapped_lines)\n",
        "    line_style = f\"style='border-top: 1px solid; width: {width}ch; margin: 14px 0;'\"\n",
        "    display(HTML(f\"<pre>{wrapped_text}</pre><div {line_style}></div><br>\"))\n",
        "\n",
        "def send_message(prompt, temperature, role, max_tokens):\n",
        "    system_message = \"\"\n",
        "    if role == \"Poet\":\n",
        "        system_message = \"You are a poet. Please immediately write a short poem in the style of Italo Calvino. There is no need to introduce yourself. \"\n",
        "    elif role == \"Proof Reader\":\n",
        "        system_message = \"You are a talented proof reader. Please immediately proof the poem provided by the 'Poet' in order to validate that all words are actual English language words. With any non-sensical words that you encounter, replace with an English word with a similar sound. There is no need to introduce yourself.\"\n",
        "    elif role == \"Editor\":\n",
        "        system_message = \"You are an reknown editor. Please immediately create a new version of the poem that the 'Proof Reader' has offered you. Verify all words are in the English language. Your version should be organized and edited for solid structure and clear form. Do not repeat phrases or words. Be true to the original poem in this endeavor! There is no need to introduce yourself or to explain your version.\"\n",
        "\n",
        "    response = openai.ChatCompletion.create(\n",
        "        model=\"gpt-3.5-turbo\",\n",
        "        messages=[{\"role\": \"system\", \"content\": system_message},\n",
        "                  {\"role\": \"user\", \"content\": prompt}],\n",
        "        temperature=temperature,\n",
        "        max_tokens=max_tokens,\n",
        "    )\n",
        "    return response.choices[0].message[\"content\"].strip()\n",
        "\n",
        "def chat(agent1, agent2, agent3, n_turns=1):\n",
        "    conversation_history = []\n",
        "    for i in range(n_turns):\n",
        "        agent1_message = send_message(f\"{agent2} and {agent3}, {conversation_history}\", temperature=1.8, role=\"Poet\", max_tokens=80)\n",
        "        conversation_history.append({\"role\": \"user\", \"content\": f\"{agent1}: {agent1_message}\"})\n",
        "        wrapped_print(f\"{agent1}: {agent1_message}\")\n",
        "\n",
        "        # Remove the Poet's message from the conversation history for Agent 3\n",
        "        agent3_conversation_history = [msg for msg in conversation_history if msg[\"content\"].startswith(agent1 + \":\")]\n",
        "\n",
        "        agent2_message = send_message(f\"{agent1} and {agent3}, {agent3_conversation_history}\", temperature=0.1, role=\"Proof Reader\", max_tokens=100)\n",
        "        conversation_history.append({\"role\": \"user\", \"content\": f\"{agent2}: {agent2_message}\"})\n",
        "        wrapped_print(f\"{agent2}: {agent2_message}\")\n",
        "\n",
        "        agent3_message = send_message(f\"{agent1} and {agent2}, {conversation_history}\", temperature=0.6, role=\"Editor\", max_tokens=150)\n",
        "        conversation_history.append({\"role\": \"user\", \"content\": f\"{agent3}: {agent3_message}\"})\n",
        "        wrapped_print(f\"{agent3}: {agent3_message}\")\n",
        "\n",
        "\n",
        "# Simulate a conversation between three agents\n",
        "chat(\"Poet\", \"Proof Reader\", \"Editor\")\n"
      ],
      "metadata": {
        "id": "y3JIqCxO1Mgt"
      },
      "execution_count": null,
      "outputs": []
    }
  ]
}
